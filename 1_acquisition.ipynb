{
 "cells": [
  {
   "cell_type": "markdown",
   "metadata": {},
   "source": [
    "# Learning Objectives:\n",
    "\n",
    "- Understand data acquisition: downloading from static links, crawling through entire websites, and streaming data from real-time sources\n",
    "- Understand data management: organizing data directories"
   ]
  },
  {
   "cell_type": "markdown",
   "metadata": {},
   "source": [
    "## Where am I?"
   ]
  },
  {
   "cell_type": "code",
   "execution_count": 1,
   "metadata": {},
   "outputs": [
    {
     "data": {
      "text/html": [
       "'/home/lngo/git/data-mining-r-workshop'"
      ],
      "text/latex": [
       "'/home/lngo/git/data-mining-r-workshop'"
      ],
      "text/markdown": [
       "'/home/lngo/git/data-mining-r-workshop'"
      ],
      "text/plain": [
       "[1] \"/home/lngo/git/data-mining-r-workshop\""
      ]
     },
     "metadata": {},
     "output_type": "display_data"
    }
   ],
   "source": [
    "getwd()"
   ]
  },
  {
   "cell_type": "code",
   "execution_count": 2,
   "metadata": {},
   "outputs": [
    {
     "ename": "ERROR",
     "evalue": "Error in setwd(\"/home/lngo/data-mining-r/\"): cannot change working directory\n",
     "output_type": "error",
     "traceback": [
      "Error in setwd(\"/home/lngo/data-mining-r/\"): cannot change working directory\nTraceback:\n",
      "1. setwd(\"/home/lngo/data-mining-r/\")"
     ]
    }
   ],
   "source": [
    "setwd(\"/home/lngo/data-mining-r/\")"
   ]
  },
  {
   "cell_type": "code",
   "execution_count": null,
   "metadata": {},
   "outputs": [],
   "source": [
    "getwd()"
   ]
  },
  {
   "cell_type": "markdown",
   "metadata": {},
   "source": [
    "## Data Acquisition"
   ]
  },
  {
   "cell_type": "markdown",
   "metadata": {},
   "source": [
    "We are looking at a list of academic institutions from the Carnegie Classifications. These academic institutions share the same characteristics\n",
    "\n",
    "- Graduate Instructional Program = \"Research Doctoral: Highest Research Activity\" \n",
    "- Enrollment Profile = \"High undergraduate\" \n",
    "- Basic = \"Doctoral Universities\" \n",
    "- Level = \"4-year or above\"\n",
    "\n",
    "The list of institutions is available at https://raw.githubusercontent.com/clemsonciti/data-mining-r-workshop/master/institutions.txt"
   ]
  },
  {
   "cell_type": "markdown",
   "metadata": {},
   "source": [
    "### Create data directory"
   ]
  },
  {
   "cell_type": "code",
   "execution_count": null,
   "metadata": {},
   "outputs": [],
   "source": [
    "current_dir <- getwd()\n",
    "data_dir <- 'data'\n",
    "\n",
    "if (!file.exists(data_dir)){\n",
    "    dir.create(file.path(current_dir, data_dir))\n",
    "} else {\n",
    "    print (\"Directory already exists\")\n",
    "}"
   ]
  },
  {
   "cell_type": "markdown",
   "metadata": {
    "collapsed": true
   },
   "source": [
    "### Download data from static link\n",
    "\n"
   ]
  },
  {
   "cell_type": "code",
   "execution_count": null,
   "metadata": {},
   "outputs": [],
   "source": [
    "institutions <- file.path(current_dir, data_dir, \"institutions.csv\")\n",
    "institutions_url <- 'https://raw.githubusercontent.com/clemsonciti/data-mining-r-workshop/master/institutions.txt'\n",
    "\n",
    "download.file(institutions_url, institutions)"
   ]
  },
  {
   "cell_type": "code",
   "execution_count": null,
   "metadata": {},
   "outputs": [],
   "source": [
    "df_institutions <- read.csv(institutions)"
   ]
  },
  {
   "cell_type": "code",
   "execution_count": null,
   "metadata": {},
   "outputs": [],
   "source": [
    "head(df_institutions)"
   ]
  },
  {
   "cell_type": "markdown",
   "metadata": {},
   "source": [
    "### Automate the process with multiple static links\n",
    "\n",
    "Most website's itemized contents (i.e., pages, list of items, etc.) are designed with listing patterns in mind. By identifying and extracting these patterns, it is possible to automate the data acquisition process\n",
    "\n",
    "** Example 1 **\n",
    "- https://ncsesdata.nsf.gov/profiles/site?method=view&fice=3963\n",
    "- https://ncsesdata.nsf.gov/profiles/site?method=view&fice=1081\n",
    "\n",
    "** Example 2 **\n",
    "- https://www.yelp.com/biz/emerils-new-orleans-new-orleans\n",
    "- https://www.yelp.com/biz/emerils-new-orleans-new-orleans?start=20\n",
    "- https://www.yelp.com/biz/emerils-new-orleans-new-orleans?start=40\n",
    "- https://www.yelp.com/biz/emerils-new-orleans-new-orleans?start=60\n",
    "- ...."
   ]
  },
  {
   "cell_type": "markdown",
   "metadata": {},
   "source": [
    "### Data Management\n",
    "\n",
    "You are about to download a bunch of files to your workstation. How are you going to organize the new data files?\n",
    "\n",
    "- Directory and file's names should provide metadata knowledge and serve as an easy way to categorize contents\n",
    "- Spaces and special characters in names should be avoided at all cost"
   ]
  },
  {
   "cell_type": "code",
   "execution_count": null,
   "metadata": {},
   "outputs": [],
   "source": [
    "# names including data sources: lengthy but meaningful and maintainable\n",
    "ncses_institution_profiles_dir <- 'ncses_institution_profiles'\n",
    "\n",
    "if (!file.exists(file.path(data_dir, ncses_institution_profiles_dir))){\n",
    "    dir.create(file.path(data_dir, ncses_institution_profiles_dir))\n",
    "    print ('Create directory ncses_institution_profiles under data')\n",
    "} else {\n",
    "    print (\"Directory already exists\")\n",
    "}"
   ]
  },
  {
   "cell_type": "code",
   "execution_count": null,
   "metadata": {
    "scrolled": true
   },
   "outputs": [],
   "source": [
    "url_prefix <- 'https://ncsesdata.nsf.gov/profiles/site?method=view&fice='\n",
    "for (i in 1:nrow(df_institutions)){\n",
    "    full_url <- paste(url_prefix, df_institutions$FICE[i],sep='')\n",
    "    print (full_url)\n",
    "}"
   ]
  },
  {
   "cell_type": "markdown",
   "metadata": {},
   "source": [
    "The previous links are just HTML pages. We need to identify the download URL of the data files. For example:\n",
    "- https://ncsesdata.nsf.gov/profiles/site?method=download&fice=1081"
   ]
  },
  {
   "cell_type": "code",
   "execution_count": null,
   "metadata": {},
   "outputs": [],
   "source": [
    "# how to name your downloaded file? Institution Name or FICE?\n",
    "# Why not BOTH?\n",
    "# How to name your files' extension?\n",
    "for (i in 1:nrow(df_institutions)){    \n",
    "    institution <- paste(df_institutions$FICE[i],df_institutions$Institutions[i],'.zip',sep='_')\n",
    "    print(institution)\n",
    "}"
   ]
  },
  {
   "cell_type": "code",
   "execution_count": null,
   "metadata": {},
   "outputs": [],
   "source": [
    "# Spaces in the file names! Spaces in the file names!\n",
    "for (i in 1:nrow(df_institutions)){    \n",
    "    institution <- paste(df_institutions$FICE[i],df_institutions$Institutions[i],'.zip',sep='_')\n",
    "    institution <- gsub(\" \", \"_\", institution, fixed = TRUE)\n",
    "    print(institution)\n",
    "}"
   ]
  },
  {
   "cell_type": "markdown",
   "metadata": {},
   "source": [
    "*Why do we replace spaces with an underscore?*"
   ]
  },
  {
   "cell_type": "code",
   "execution_count": null,
   "metadata": {},
   "outputs": [],
   "source": [
    "# We are really downloading the files now, and also cleaning up the file names ...\n",
    "url_prefix <- 'https://ncsesdata.nsf.gov/profiles/site?method=download&fice='\n",
    "for (i in 1:nrow(df_institutions)){\n",
    "    full_url <- paste(url_prefix, df_institutions$FICE[i],sep='')\n",
    "    institution <- paste(df_institutions$FICE[i],df_institutions$Institutions[i],sep='_')\n",
    "    institution <- gsub(\" \", \"_\", institution, fixed = TRUE)\n",
    "    institution <- paste(institution,'.zip',sep='')\n",
    "    institution_path <- file.path(current_dir,data_dir, ncses_institution_profiles_dir, institution)\n",
    "    print(full_url)\n",
    "    print(institution_path)\n",
    "    download.file(full_url, institution_path, mode = \"wb\")\n",
    "    # be courteous to your source:\n",
    "    sleep_time <- sample(2:6,1)\n",
    "    print (sleep_time)\n",
    "    Sys.sleep(sleep_time)\n",
    "}"
   ]
  },
  {
   "cell_type": "markdown",
   "metadata": {},
   "source": [
    "### Collecting Streaming Data (RSS feeds, Twitter)\n",
    "\n",
    "- feedeR for RSS feeds: https://cran.r-project.org/web/packages/feedeR/feedeR.pdf\n",
    "- rtweet for Twitter data: https://cran.r-project.org/web/packages/rtweet/rtweet.pdf"
   ]
  },
  {
   "cell_type": "markdown",
   "metadata": {},
   "source": [
    "** Streaming RSS feeds **"
   ]
  },
  {
   "cell_type": "code",
   "execution_count": null,
   "metadata": {},
   "outputs": [],
   "source": [
    "library(feedeR)"
   ]
  },
  {
   "cell_type": "code",
   "execution_count": null,
   "metadata": {},
   "outputs": [],
   "source": [
    "reddit_feed <- feed.extract(\"https://www.reddit.com/r/all/new/.rss\")"
   ]
  },
  {
   "cell_type": "code",
   "execution_count": null,
   "metadata": {},
   "outputs": [],
   "source": [
    "str(reddit_feed)"
   ]
  },
  {
   "cell_type": "code",
   "execution_count": null,
   "metadata": {},
   "outputs": [],
   "source": [
    "str(reddit_feed$items)"
   ]
  },
  {
   "cell_type": "code",
   "execution_count": null,
   "metadata": {},
   "outputs": [],
   "source": [
    "reddit_feed$items"
   ]
  },
  {
   "cell_type": "code",
   "execution_count": null,
   "metadata": {
    "scrolled": true
   },
   "outputs": [],
   "source": [
    "for (i in 1:10){\n",
    "    reddit_feed <- feed.extract(\"https://www.reddit.com/r/all/new/.rss\")\n",
    "    print(reddit_feed$updated)\n",
    "    print(reddit_feed$items[1]$title[1])\n",
    "    print(reddit_feed$items[3]$link[1])\n",
    "}"
   ]
  },
  {
   "cell_type": "markdown",
   "metadata": {},
   "source": [
    "** Streaming Twitter feeds **"
   ]
  },
  {
   "cell_type": "code",
   "execution_count": null,
   "metadata": {},
   "outputs": [],
   "source": [
    "library(rtweet)\n",
    "\n",
    "clemson_tweets <- stream_tweets(q = 'Clemson,clemson,ClemsonTiger', timeout = 120)"
   ]
  },
  {
   "cell_type": "code",
   "execution_count": null,
   "metadata": {},
   "outputs": [],
   "source": [
    "str(clemson_tweets)"
   ]
  },
  {
   "cell_type": "code",
   "execution_count": null,
   "metadata": {},
   "outputs": [],
   "source": [
    "clemson_tweets"
   ]
  },
  {
   "cell_type": "markdown",
   "metadata": {},
   "source": [
    "** Question to be considered: **\n",
    "- What is the rate of data acquisition?\n",
    "- Am I loosing data?\n",
    "- Am I duplicating data?"
   ]
  }
 ],
 "metadata": {
  "kernelspec": {
   "display_name": "R 3.3",
   "language": "R",
   "name": "r-3.3"
  },
  "language_info": {
   "codemirror_mode": "r",
   "file_extension": ".r",
   "mimetype": "text/x-r-source",
   "name": "R",
   "pygments_lexer": "r",
   "version": "3.3.1"
  }
 },
 "nbformat": 4,
 "nbformat_minor": 1
}
