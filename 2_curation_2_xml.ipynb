{
 "cells": [
  {
   "cell_type": "markdown",
   "metadata": {},
   "source": [
    "# Data Mining using R"
   ]
  },
  {
   "cell_type": "markdown",
   "metadata": {},
   "source": [
    "#### R in a nutshell\n",
    "\n",
    "- Statistical programming environments\n",
    "- Originally designed and implemented by statisticians\n",
    "- Widely popular due to its extensive collection of community-contributed packages\n",
    "- Quickly gaining market-share among traditional proprietary tools such as SAS and STATA for data analytics"
   ]
  },
  {
   "cell_type": "markdown",
   "metadata": {},
   "source": [
    "#### Learning Objectives\n",
    "\n",
    "- Understand data acquisition: downloading from static links, crawling through entire websites, and streaming data from real-time sources\n",
    "- Understand data curation: working with hierarchically structured data (text, XML/HTML, JSON)\n",
    "- Understand data management: organizing data directories, working with databases\n",
    "- Understand HPC concepts: automating data-mining process through the Palmetto and Cypress Supercomputers"
   ]
  },
  {
   "cell_type": "markdown",
   "metadata": {},
   "source": [
    "## Where am I?"
   ]
  },
  {
   "cell_type": "code",
   "execution_count": null,
   "metadata": {
    "collapsed": false
   },
   "outputs": [],
   "source": [
    "getwd()"
   ]
  },
  {
   "cell_type": "code",
   "execution_count": null,
   "metadata": {
    "collapsed": false
   },
   "outputs": [],
   "source": [
    "setwd(\"/home/lngo/data-mining-r/\")"
   ]
  },
  {
   "cell_type": "code",
   "execution_count": null,
   "metadata": {
    "collapsed": false
   },
   "outputs": [],
   "source": [
    "getwd()"
   ]
  },
  {
   "cell_type": "markdown",
   "metadata": {},
   "source": [
    "## Data Curation"
   ]
  },
  {
   "cell_type": "markdown",
   "metadata": {},
   "source": [
    "- For JSON and XML formats, we will use the [NY Retail Food Store Database from data.gov](https://catalog.data.gov/dataset/retail-food-stores/resource/498a7e81-ea0e-425c-bb8d-a4e36d619f81)\n"
   ]
  },
  {
   "cell_type": "markdown",
   "metadata": {},
   "source": [
    "### 2. XML Format\n",
    "\n",
    "- Extended Markup Language\n",
    "- Example of data in XML format: `samples/books.xml` from https://msdn.microsoft.com/en-us/library/ms762271(v=vs.85).aspx"
   ]
  },
  {
   "cell_type": "markdown",
   "metadata": {},
   "source": [
    "Package `XML` reads xml data into a tree structure that can be interpreted by external XML processing functions. "
   ]
  },
  {
   "cell_type": "code",
   "execution_count": null,
   "metadata": {
    "collapsed": true
   },
   "outputs": [],
   "source": [
    "library(xml2)"
   ]
  },
  {
   "cell_type": "code",
   "execution_count": null,
   "metadata": {
    "collapsed": false
   },
   "outputs": [],
   "source": [
    "sample_xml <- read_xml('./samples/books.xml')"
   ]
  },
  {
   "cell_type": "code",
   "execution_count": null,
   "metadata": {
    "collapsed": false,
    "scrolled": true
   },
   "outputs": [],
   "source": [
    "sample_xml"
   ]
  },
  {
   "cell_type": "code",
   "execution_count": null,
   "metadata": {
    "collapsed": false
   },
   "outputs": [],
   "source": [
    "xml_structure(sample_xml)"
   ]
  },
  {
   "cell_type": "code",
   "execution_count": null,
   "metadata": {
    "collapsed": false
   },
   "outputs": [],
   "source": [
    "book_catalog <- as_list(sample_xml)"
   ]
  },
  {
   "cell_type": "code",
   "execution_count": null,
   "metadata": {
    "collapsed": false
   },
   "outputs": [],
   "source": [
    "str(book_catalog)"
   ]
  },
  {
   "cell_type": "code",
   "execution_count": null,
   "metadata": {
    "collapsed": false
   },
   "outputs": [],
   "source": [
    "summary(book_catalog)"
   ]
  },
  {
   "cell_type": "markdown",
   "metadata": {},
   "source": [
    "For XML version of the NY food store data, we don't have separate data and metadata. Instead, everything is stored together as tags, attributes, and values"
   ]
  },
  {
   "cell_type": "code",
   "execution_count": null,
   "metadata": {
    "collapsed": false
   },
   "outputs": [],
   "source": [
    "print (getwd())\n",
    "stores_file <- file.path('data','food_stores.xml') #back up copy in samples/food_stores.xml\n",
    "stores_url <- 'https://data.ny.gov/api/views/9a8c-vfzj/rows.xml?accessType=DOWNLOAD'"
   ]
  },
  {
   "cell_type": "code",
   "execution_count": null,
   "metadata": {
    "collapsed": true
   },
   "outputs": [],
   "source": [
    "download.file(stores_url,stores_file,method = \"wget\",quiet = TRUE)"
   ]
  },
  {
   "cell_type": "code",
   "execution_count": null,
   "metadata": {
    "collapsed": false
   },
   "outputs": [],
   "source": [
    "stores_xml <- read_xml(stores_file)"
   ]
  },
  {
   "cell_type": "code",
   "execution_count": null,
   "metadata": {
    "collapsed": false
   },
   "outputs": [],
   "source": [
    "str(stores_xml)"
   ]
  },
  {
   "cell_type": "code",
   "execution_count": null,
   "metadata": {
    "collapsed": true
   },
   "outputs": [],
   "source": [
    "list_stores <- as_list(stores_xml)"
   ]
  },
  {
   "cell_type": "markdown",
   "metadata": {},
   "source": [
    "Anticipating from the results of `as_list` when called on `book_catalog`, we will not want to risk displaying the structure of a lengthy list. Frequent size checks are recommended"
   ]
  },
  {
   "cell_type": "code",
   "execution_count": null,
   "metadata": {
    "collapsed": false
   },
   "outputs": [],
   "source": [
    "print(length(list_stores))"
   ]
  },
  {
   "cell_type": "code",
   "execution_count": null,
   "metadata": {
    "collapsed": false
   },
   "outputs": [],
   "source": [
    "print(length(list_stores[[1]]))"
   ]
  },
  {
   "cell_type": "code",
   "execution_count": null,
   "metadata": {
    "collapsed": false
   },
   "outputs": [],
   "source": [
    "print(length(list_stores[[1]][[1]]))"
   ]
  },
  {
   "cell_type": "code",
   "execution_count": null,
   "metadata": {
    "collapsed": false
   },
   "outputs": [],
   "source": [
    "str(list_stores[[1]][[1]])"
   ]
  },
  {
   "cell_type": "markdown",
   "metadata": {
    "collapsed": false
   },
   "source": [
    "Similar to the JSON case, to convert elements of this XML-based list into rows of a data frame, we need to first construct the headers:\n",
    "\n",
    "- XML's tags become names of the list's elements\n",
    "- XML's attributes become attributes of associated elements within the list"
   ]
  },
  {
   "cell_type": "code",
   "execution_count": null,
   "metadata": {
    "collapsed": false
   },
   "outputs": [],
   "source": [
    "names(list_stores[[1]][[1]])"
   ]
  },
  {
   "cell_type": "markdown",
   "metadata": {},
   "source": [
    "We don't want `location` but attributes `latitute` and `longitude` of `location`"
   ]
  },
  {
   "cell_type": "code",
   "execution_count": null,
   "metadata": {
    "collapsed": false
   },
   "outputs": [],
   "source": [
    "attributes(list_stores[[1]][[1]][['location']])"
   ]
  },
  {
   "cell_type": "code",
   "execution_count": null,
   "metadata": {
    "collapsed": false
   },
   "outputs": [],
   "source": [
    "xml_headers <- names(list_stores[[1]][[1]])\n",
    "location_attributes <- names(attributes(list_stores[[1]][[1]][['location']]))\n",
    "stores_headers <- xml_headers[1:(length(xml_headers) - 1)]\n",
    "stores_headers <- c(stores_headers,\n",
    "                   location_attributes[[2]],\n",
    "                   location_attributes[[3]])\n",
    "print(stores_headers)"
   ]
  },
  {
   "cell_type": "markdown",
   "metadata": {},
   "source": [
    "While it is possible to *hardcode* headers information, an implementation that rely on raw data's information is potentially dynamic, maintainable, and reusable"
   ]
  },
  {
   "cell_type": "code",
   "execution_count": null,
   "metadata": {
    "collapsed": false
   },
   "outputs": [],
   "source": [
    "stores_counts <- length(list_stores[[1]])\n",
    "\n",
    "df_stores <- data.frame(character(stores_counts), stringsAsFactors=FALSE)\n",
    "for (i in 2:14){\n",
    "    df_stores[,i] <- character(stores_counts)\n",
    "}\n",
    "\n",
    "for (i in 15:16){\n",
    "    df_stores[,i] <- numeric(stores_counts)\n",
    "}\n",
    "\n",
    "colnames(df_stores) <- stores_headers"
   ]
  },
  {
   "cell_type": "code",
   "execution_count": null,
   "metadata": {
    "collapsed": false
   },
   "outputs": [],
   "source": [
    "str(df_stores)"
   ]
  },
  {
   "cell_type": "code",
   "execution_count": null,
   "metadata": {
    "collapsed": false
   },
   "outputs": [],
   "source": [
    "for (i in 1:1){\n",
    "    tmpList <- list_stores[[1]][[i]]\n",
    "    for (j in 1:14){\n",
    "        if (!is.null(tmpList[[j]]) && length(tmpList[[j]] > 0)){\n",
    "            df_stores[i,j] <- tmpList[[j]][[1]]\n",
    "        }\n",
    "    }\n",
    "    location_attributes <- attributes(tmpList[['location']])\n",
    "    for (j in 15:16){\n",
    "        if (!is.null(location_attributes[[j-13]])){\n",
    "            df_stores[i,j] <- as.numeric(location_attributes[[j-13]])\n",
    "        }\n",
    "    }\n",
    "    print (df_stores[i,])\n",
    "}"
   ]
  },
  {
   "cell_type": "code",
   "execution_count": null,
   "metadata": {
    "collapsed": false
   },
   "outputs": [],
   "source": [
    "for (i in 1:stores_counts){\n",
    "    tmpList <- list_stores[[1]][[i]]\n",
    "    for (j in 1:14){\n",
    "        if (!is.null(tmpList[[j]]) && length(tmpList[[j]] > 0)){\n",
    "            df_stores[i,j] <- tmpList[[j]][[1]]\n",
    "        }\n",
    "    }\n",
    "    location_attributes <- attributes(tmpList[['location']])\n",
    "    for (j in 15:16){\n",
    "        if (!is.null(location_attributes[[j-13]])){\n",
    "            df_stores[i,j] <- as.numeric(location_attributes[[j-13]])\n",
    "        }\n",
    "    }\n",
    "}"
   ]
  },
  {
   "cell_type": "code",
   "execution_count": null,
   "metadata": {
    "collapsed": false
   },
   "outputs": [],
   "source": [
    "print(list_stores[[1]][[10]])\n",
    "print(df_stores[10,])"
   ]
  },
  {
   "cell_type": "markdown",
   "metadata": {},
   "source": [
    "For complex XML data, the recommended approach is to use [XPath Query Language](https://en.wikipedia.org/wiki/XPath):\n",
    "- /node = top-level node\n",
    "- //node = node at any level\n",
    "- node[@attr] = node that has an attribute named \"attr\"\n",
    "- node[@attr='something'] = node that has an attribute named \"attr\" with value 'something'\n",
    "- node/@attr = value of attribute `attr` in node that has such attributes. \n",
    "\n",
    "XPAth queries can be used with package xml2's `xml_path` function to describe operations on specific XML data elements whose tags and attributes match the query patterns"
   ]
  },
  {
   "cell_type": "markdown",
   "metadata": {
    "collapsed": true
   },
   "source": [
    "### 3. Download and process HTML pages"
   ]
  },
  {
   "cell_type": "markdown",
   "metadata": {},
   "source": [
    "### 4. Process text data"
   ]
  }
 ],
 "metadata": {
  "kernelspec": {
   "display_name": "R 3.3",
   "language": "R",
   "name": "r-3.3"
  },
  "language_info": {
   "codemirror_mode": "r",
   "file_extension": ".r",
   "mimetype": "text/x-r-source",
   "name": "R",
   "pygments_lexer": "r",
   "version": "3.3.1"
  }
 },
 "nbformat": 4,
 "nbformat_minor": 1
}
