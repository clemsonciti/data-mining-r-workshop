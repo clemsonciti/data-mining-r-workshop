{
 "cells": [
  {
   "cell_type": "markdown",
   "metadata": {},
   "source": [
    "# Learning Objectives\n",
    "\n",
    "- Understand HPC concepts: automating data-mining process through the Palmetto Supercomputer"
   ]
  },
  {
   "cell_type": "markdown",
   "metadata": {},
   "source": [
    "** Python cell magic: **\n",
    "\n",
    "- Specify at top of cell\n",
    "- Prefixed by %%\n",
    "- Enable functionality on cell' contents\n",
    "\n",
    "** writefile: **\n",
    "- %%writefile *path-to-filename*"
   ]
  },
  {
   "cell_type": "markdown",
   "metadata": {},
   "source": [
    "## Where am I?"
   ]
  },
  {
   "cell_type": "code",
   "execution_count": null,
   "metadata": {
    "collapsed": true
   },
   "outputs": [],
   "source": [
    "!ls"
   ]
  },
  {
   "cell_type": "code",
   "execution_count": null,
   "metadata": {
    "collapsed": true
   },
   "outputs": [],
   "source": [
    "%%writefile mine_institutions.R\n",
    "#!/usr/bin/env /usr/local/share/jupyterhub/env/R/lib/R/bin/Rscript\n",
    "args = commandArgs(trailingOnly=TRUE)\n",
    "\n",
    "print (args)\n",
    "\n",
    "current_dir <- getwd()\n",
    "data_dir <- 'data'\n",
    "\n",
    "if (!file.exists(data_dir)){\n",
    "    dir.create(file.path(current_dir, data_dir))\n",
    "} else {\n",
    "    print (\"Directory already exists\")\n",
    "}\n",
    "\n",
    "institutions <- file.path(current_dir, data_dir, args[1])\n",
    "institutions_url <- 'https://raw.githubusercontent.com/clemsonciti/data-mining-r-workshop/master/institutions.txt'\n",
    "\n",
    "download.file(institutions_url, institutions)\n",
    "\n",
    "df_institutions <- read.csv(institutions)\n",
    "\n",
    "# names including data sources: lengthy but meaningful and maintainable\n",
    "ncses_institution_profiles_dir <- 'ncses_institution_profiles'\n",
    "\n",
    "if (!file.exists(file.path(data_dir, ncses_institution_profiles_dir))){\n",
    "    dir.create(file.path(data_dir, ncses_institution_profiles_dir))\n",
    "    print ('Create directory ncses_institution_profiles under data')\n",
    "} else {\n",
    "    print (\"Directory already exists\")\n",
    "}\n",
    "\n",
    "url_prefix <- 'https://ncsesdata.nsf.gov/profiles/site?method=download&fice='\n",
    "\n",
    "for (i in 1:nrow(df_institutions)){\n",
    "    full_url <- paste(url_prefix, df_institutions$FICE[i],sep='')\n",
    "    institution <- paste(df_institutions$FICE[i],df_institutions$Institutions[i],sep='_')\n",
    "    institution <- gsub(\" \", \"_\", institution, fixed = TRUE)\n",
    "    institution <- paste(institution,'.zip',sep='')\n",
    "    institution_path <- file.path(current_dir,data_dir, ncses_institution_profiles_dir, institution)\n",
    "    print(full_url)\n",
    "    print(institution_path)\n",
    "    download.file(full_url, institution_path, mode = \"wb\")\n",
    "    # be courteous to your source:\n",
    "    sleep_time <- sample(2:6,1)\n",
    "    print (sleep_time)\n",
    "    Sys.sleep(sleep_time)\n",
    "}"
   ]
  },
  {
   "cell_type": "code",
   "execution_count": null,
   "metadata": {
    "collapsed": true
   },
   "outputs": [],
   "source": [
    "%%writefile mining.pbs\n",
    "#!/bin/bash\n",
    "\n",
    "#PBS -N data_mining\n",
    "#PBS -l select=1:ncpus=8:mem=8gb\n",
    "#PBS -l walltime=00:30:00\n",
    "#PBS -j oe\n",
    "\n",
    "cd $PBS_O_WORKDIR\n",
    "\n",
    "rm -Rf data/*\n",
    "chmod 755 mine_institutions.R \n",
    "./mine_institutions.R institutions.txt"
   ]
  },
  {
   "cell_type": "code",
   "execution_count": null,
   "metadata": {
    "collapsed": true
   },
   "outputs": [],
   "source": [
    "!pwd"
   ]
  },
  {
   "cell_type": "code",
   "execution_count": null,
   "metadata": {
    "collapsed": true
   },
   "outputs": [],
   "source": [
    "!ssh user001 'cd /home/lngo/git/data-mining-r-workshop; qsub mining.pbs'"
   ]
  },
  {
   "cell_type": "code",
   "execution_count": null,
   "metadata": {
    "collapsed": true
   },
   "outputs": [],
   "source": [
    "!qstat -anu lngo"
   ]
  },
  {
   "cell_type": "code",
   "execution_count": null,
   "metadata": {
    "collapsed": true
   },
   "outputs": [],
   "source": [
    "!ls"
   ]
  },
  {
   "cell_type": "markdown",
   "metadata": {},
   "source": [
    "You can observe the output of your job here by viewing the file with the naming pattern `data_mining.oXXXXXXX`. The `XXXXXXX` number should match with the number string in the job ID. "
   ]
  },
  {
   "cell_type": "code",
   "execution_count": null,
   "metadata": {
    "collapsed": true
   },
   "outputs": [],
   "source": [
    "!cat data_mining.o1837024"
   ]
  }
 ],
 "metadata": {
  "kernelspec": {
   "display_name": "PySpark",
   "language": "python",
   "name": "pyspark"
  },
  "language_info": {
   "codemirror_mode": {
    "name": "ipython",
    "version": 3
   },
   "file_extension": ".py",
   "mimetype": "text/x-python",
   "name": "python",
   "nbconvert_exporter": "python",
   "pygments_lexer": "ipython3",
   "version": "3.5.2"
  }
 },
 "nbformat": 4,
 "nbformat_minor": 1
}
