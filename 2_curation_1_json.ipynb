{
 "cells": [
  {
   "cell_type": "markdown",
   "metadata": {},
   "source": [
    "# Learning Objectives\n",
    "\n",
    "- Understand data acquisition: downloading from static links\n",
    "- Understand data curation: working with hierarchically structured data (JSON)"
   ]
  },
  {
   "cell_type": "markdown",
   "metadata": {},
   "source": [
    "## Where am I?"
   ]
  },
  {
   "cell_type": "code",
   "execution_count": null,
   "metadata": {},
   "outputs": [],
   "source": [
    "getwd()"
   ]
  },
  {
   "cell_type": "code",
   "execution_count": null,
   "metadata": {},
   "outputs": [],
   "source": [
    "setwd(\"/home/lngo/data-mining-r/\")"
   ]
  },
  {
   "cell_type": "code",
   "execution_count": null,
   "metadata": {},
   "outputs": [],
   "source": [
    "getwd()"
   ]
  },
  {
   "cell_type": "markdown",
   "metadata": {},
   "source": [
    "## Data Curation"
   ]
  },
  {
   "cell_type": "markdown",
   "metadata": {},
   "source": [
    "- For JSON and XML formats, we will use the [NY Retailed Food Store Database from data.gov](https://catalog.data.gov/dataset/retail-food-stores/resource/498a7e81-ea0e-425c-bb8d-a4e36d619f81)\n"
   ]
  },
  {
   "cell_type": "markdown",
   "metadata": {},
   "source": [
    "### 1. JSON Format"
   ]
  },
  {
   "cell_type": "markdown",
   "metadata": {},
   "source": [
    "- Data are stored in Key:Value format\n",
    "- Example of data in JSON format (http://www.json.org/example.html)\n",
    "```\n",
    "{\"menu\": {\n",
    "  \"id\": \"file\",\n",
    "  \"value\": \"File\",\n",
    "  \"popup\": {\n",
    "    \"menuitem\": [\n",
    "      {\"value\": \"New\", \"onclick\": \"CreateNewDoc()\"},\n",
    "      {\"value\": \"Open\", \"onclick\": \"OpenDoc()\"},\n",
    "      {\"value\": \"Close\", \"onclick\": \"CloseDoc()\"}\n",
    "    ]\n",
    "  }\n",
    "}}\n",
    "```"
   ]
  },
  {
   "cell_type": "markdown",
   "metadata": {},
   "source": [
    "Package `RJSONIO` converst json data into nested lists. "
   ]
  },
  {
   "cell_type": "code",
   "execution_count": null,
   "metadata": {
    "collapsed": true
   },
   "outputs": [],
   "source": [
    "library(RJSONIO)"
   ]
  },
  {
   "cell_type": "code",
   "execution_count": null,
   "metadata": {
    "collapsed": true
   },
   "outputs": [],
   "source": [
    "sample_json <- fromJSON('\n",
    "{\"menu\": {\n",
    "  \"id\": \"file\",\n",
    "  \"value\": \"File\",\n",
    "  \"popup\": {\n",
    "    \"menuitem\": [\n",
    "      {\"value\": \"New\", \"onclick\": \"CreateNewDoc()\"},\n",
    "      {\"value\": \"Open\", \"onclick\": \"OpenDoc()\"},\n",
    "      {\"value\": \"Close\", \"onclick\": \"CloseDoc()\"}\n",
    "    ]\n",
    "  }\n",
    "}}\n",
    "')"
   ]
  },
  {
   "cell_type": "code",
   "execution_count": null,
   "metadata": {},
   "outputs": [],
   "source": [
    "str(sample_json)"
   ]
  },
  {
   "cell_type": "markdown",
   "metadata": {},
   "source": [
    "- For simple data, the resulting converted data will consist of multiple nested lists. Each individual list within this collection often has name representing its KEY and the content presenting its VALUE, which in turn could be another list of vector of data. \n",
    "\n",
    "- Complex data in json format can lead to nested lists with deep hierarchy. One possible approach is to rely on `summary` and `str` functions of R to iteratively explore the hierarchical structure of the data"
   ]
  },
  {
   "cell_type": "markdown",
   "metadata": {},
   "source": [
    "The JSON data can be read directly from an online location"
   ]
  },
  {
   "cell_type": "code",
   "execution_count": null,
   "metadata": {
    "collapsed": true
   },
   "outputs": [],
   "source": [
    "stores_json <- fromJSON('https://data.ny.gov/api/views/9a8c-vfzj/rows.json?accessType=DOWNLOAD')"
   ]
  },
  {
   "cell_type": "markdown",
   "metadata": {},
   "source": [
    "JSON data can also be read in from a local file"
   ]
  },
  {
   "cell_type": "code",
   "execution_count": null,
   "metadata": {},
   "outputs": [],
   "source": [
    "stores_json <- fromJSON('./samples/food_stores.json')"
   ]
  },
  {
   "cell_type": "markdown",
   "metadata": {},
   "source": [
    "`summary` and `str` need to be used concurrently. `str` provides detailed information but could be too lengthy. `summary` provides a better overview of all data elements at a cost of missing internal details."
   ]
  },
  {
   "cell_type": "code",
   "execution_count": null,
   "metadata": {},
   "outputs": [],
   "source": [
    "str(stores_json)"
   ]
  },
  {
   "cell_type": "code",
   "execution_count": null,
   "metadata": {},
   "outputs": [],
   "source": [
    "summary(stores_json)"
   ]
  },
  {
   "cell_type": "markdown",
   "metadata": {},
   "source": [
    "It looks like this JSON data contains two main components: metadata and data. "
   ]
  },
  {
   "cell_type": "code",
   "execution_count": null,
   "metadata": {},
   "outputs": [],
   "source": [
    "str(stores_json[['meta']])"
   ]
  },
  {
   "cell_type": "code",
   "execution_count": null,
   "metadata": {},
   "outputs": [],
   "source": [
    "summary(stores_json[['meta']])"
   ]
  },
  {
   "cell_type": "markdown",
   "metadata": {},
   "source": [
    "Be very careful when you use `summary` or `str` on a list of data elements, as they will attemp to print out information on **every data element**. "
   ]
  },
  {
   "cell_type": "code",
   "execution_count": null,
   "metadata": {},
   "outputs": [],
   "source": [
    "stores_counts <- length(stores_json[['data']])\n",
    "print (stores_counts)"
   ]
  },
  {
   "cell_type": "code",
   "execution_count": null,
   "metadata": {},
   "outputs": [],
   "source": [
    "str(stores_json[['data']][[1]])"
   ]
  },
  {
   "cell_type": "code",
   "execution_count": null,
   "metadata": {},
   "outputs": [],
   "source": [
    "summary(stores_json[['data']][[1]])"
   ]
  },
  {
   "cell_type": "markdown",
   "metadata": {},
   "source": [
    "For this particular dataset, since the header information is separated from the data (`metadata` and `data`), it is reasonable to assume that all data elements follow the same structural rules, and that while there could be missing values, there will be no extra values\n",
    "\n",
    "In cases where this assumption is not true, a possible quick method to check for discrepancies can be done as follows:"
   ]
  },
  {
   "cell_type": "code",
   "execution_count": null,
   "metadata": {},
   "outputs": [],
   "source": [
    "column_count <- numeric(stores_counts)\n",
    "\n",
    "for (i in 1:stores_counts){\n",
    "    column_count[i] <- length(stores_json[['data']][[i]])\n",
    "}\n",
    "\n",
    "print (summary(column_count))\n",
    "print (as.data.frame(table(unique(column_count))))"
   ]
  },
  {
   "cell_type": "markdown",
   "metadata": {},
   "source": [
    "Depending on the results of `summary`, we can determine whether discrepancies exist. With the combination of `as.data.frame`, `table`, `unique`, we can determine the level of discrepancies and devise additional identification and unification solutions.  \n",
    "\n",
    "At this time, we will focus on `metadata` to understand the structure of our data"
   ]
  },
  {
   "cell_type": "code",
   "execution_count": null,
   "metadata": {},
   "outputs": [],
   "source": [
    "str(stores_json[['meta']][['view']])"
   ]
  },
  {
   "cell_type": "code",
   "execution_count": null,
   "metadata": {
    "scrolled": true
   },
   "outputs": [],
   "source": [
    "summary(stores_json[['meta']][['view']])"
   ]
  },
  {
   "cell_type": "code",
   "execution_count": null,
   "metadata": {},
   "outputs": [],
   "source": [
    "str(stores_json[['meta']][['view']][['columns']])"
   ]
  },
  {
   "cell_type": "code",
   "execution_count": null,
   "metadata": {
    "scrolled": true
   },
   "outputs": [],
   "source": [
    "summary(stores_json[['meta']][['view']][['columns']])"
   ]
  },
  {
   "cell_type": "code",
   "execution_count": null,
   "metadata": {
    "scrolled": true
   },
   "outputs": [],
   "source": [
    "for (i in 1:23){\n",
    "    tmpList <- stores_json[['meta']][['view']][['columns']][[i]]\n",
    "    print (paste(i,tmpList[['name']],sep=\".: \"))\n",
    "    print (names(tmpList))\n",
    "}"
   ]
  },
  {
   "cell_type": "code",
   "execution_count": null,
   "metadata": {
    "scrolled": false
   },
   "outputs": [],
   "source": [
    "str(stores_json[['meta']][['view']][['columns']][[23]])"
   ]
  },
  {
   "cell_type": "code",
   "execution_count": null,
   "metadata": {},
   "outputs": [],
   "source": [
    "summary(stores_json[['meta']][['view']][['columns']][[23]])"
   ]
  },
  {
   "cell_type": "code",
   "execution_count": null,
   "metadata": {},
   "outputs": [],
   "source": [
    "str(stores_json[['meta']][['view']][['columns']][[23]][['subColumnTypes']])"
   ]
  },
  {
   "cell_type": "code",
   "execution_count": null,
   "metadata": {},
   "outputs": [],
   "source": [
    "unique(stores_json[['meta']][['view']][['columns']][[23]][['subColumnTypes']])"
   ]
  },
  {
   "cell_type": "code",
   "execution_count": null,
   "metadata": {
    "scrolled": true
   },
   "outputs": [],
   "source": [
    "stores_json[['data']][[1]]"
   ]
  },
  {
   "cell_type": "markdown",
   "metadata": {},
   "source": [
    "Time to build the data frame:\n",
    "- Fields 1 to 22 are flattened, field 23 is not. What to do?\n",
    "- Fortunately, field 23 is only nested at one level, and could be flattended into additioanl fields. In fact, you could also argue that subfield A is not relevant since it is covered by fields 15 through 21. "
   ]
  },
  {
   "cell_type": "code",
   "execution_count": null,
   "metadata": {
    "scrolled": true
   },
   "outputs": [],
   "source": [
    "for (i in 1:23){\n",
    "    tmpList <- stores_json[['meta']][['view']][['columns']][[i]]\n",
    "    print (paste(i,tmpList[['name']],sep=\".: \"))\n",
    "    if (i == 23){\n",
    "        print (tmpList[['subColumnTypes']])\n",
    "    }\n",
    "}"
   ]
  },
  {
   "cell_type": "code",
   "execution_count": null,
   "metadata": {},
   "outputs": [],
   "source": [
    "stores_headers <- c()\n",
    "\n",
    "for (i in 1:23){  \n",
    "    tmpList <- stores_json[['meta']][['view']][['columns']][[i]]\n",
    "    if (i != 23){\n",
    "        stores_headers <- c(stores_headers, tmpList[['name']])\n",
    "    }\n",
    "    else {\n",
    "        for (j in 2:5){\n",
    "            stores_headers <- c(stores_headers, tmpList[['subColumnTypes']][j])\n",
    "        }\n",
    "    }\n",
    "}\n",
    "\n",
    "print (stores_headers)"
   ]
  },
  {
   "cell_type": "markdown",
   "metadata": {},
   "source": [
    "Since columns 1 through 8 seem to be related to the creation of the JSON data rather than the data themselves, it is OK to drop them in this case. "
   ]
  },
  {
   "cell_type": "code",
   "execution_count": null,
   "metadata": {},
   "outputs": [],
   "source": [
    "stores_headers <- c()\n",
    "\n",
    "for (i in 1:23){  \n",
    "    tmpList <- stores_json[['meta']][['view']][['columns']][[i]]\n",
    "    if (i != 23){\n",
    "        stores_headers <- c(stores_headers, tmpList[['name']])\n",
    "    }\n",
    "    else {\n",
    "        for (j in 2:5){\n",
    "            stores_headers <- c(stores_headers, tmpList[['subColumnTypes']][j])\n",
    "        }\n",
    "    }\n",
    "}\n",
    "\n",
    "print (stores_headers)"
   ]
  },
  {
   "cell_type": "markdown",
   "metadata": {},
   "source": [
    "- Now we need to create the dataframe ...\n",
    "- For complex nested lists, faster techniques using `dplyr`, `plyr`, or `reshape` might not work well due to data uncertainy ..."
   ]
  },
  {
   "cell_type": "code",
   "execution_count": null,
   "metadata": {},
   "outputs": [],
   "source": [
    "df_stores <- data.frame(character(stores_counts), stringsAsFactors=FALSE)\n",
    "for (i in 2:14){\n",
    "    df_stores[,i] <- character(stores_counts)\n",
    "}\n",
    "\n",
    "for (i in 15:16){\n",
    "    df_stores[,i] <- numeric(stores_counts)\n",
    "}\n",
    "\n",
    "for (i in 17:18){\n",
    "    df_stores[,i] <- character(stores_counts)\n",
    "}\n",
    "colnames(df_stores) <- stores_headers"
   ]
  },
  {
   "cell_type": "code",
   "execution_count": null,
   "metadata": {},
   "outputs": [],
   "source": [
    "str(df_stores)"
   ]
  },
  {
   "cell_type": "code",
   "execution_count": null,
   "metadata": {
    "scrolled": true
   },
   "outputs": [],
   "source": [
    "for (i in 1:1){\n",
    "    tmpList <- stores_json[['data']][[i]]\n",
    "    print (tmpList)\n",
    "}"
   ]
  },
  {
   "cell_type": "code",
   "execution_count": null,
   "metadata": {},
   "outputs": [],
   "source": [
    "for (i in 1:1){\n",
    "    tmpList <- stores_json[['data']][[i]]\n",
    "    for (j in 9:22){\n",
    "        df_stores[i,j-8] <- tmpList[[j]]\n",
    "    }\n",
    "    for (j in 15:16){\n",
    "        df_stores[i,j] <- as.numeric(tmpList[[23]][[j-13]])\n",
    "    }\n",
    "    for (j in 17:18){\n",
    "        df_stores[i,j] <- tmpList[[23]][[j-13]]\n",
    "    }\n",
    "    print (df_stores[i,])\n",
    "}"
   ]
  },
  {
   "cell_type": "markdown",
   "metadata": {},
   "source": [
    "This looks correct ..."
   ]
  },
  {
   "cell_type": "code",
   "execution_count": null,
   "metadata": {},
   "outputs": [],
   "source": [
    "for (i in 1:stores_counts){\n",
    "    tmpList <- stores_json[['data']][[i]]\n",
    "    for (j in 9:22){\n",
    "        df_stores[i,j-8] <- tmpList[[j]]\n",
    "    }\n",
    "    for (j in 15:16){\n",
    "        df_stores[i,j] <- as.numeric(tmpList[[23]][[j-13]])\n",
    "    }\n",
    "    for (j in 17:18){\n",
    "        df_stores[i,j] <- tmpList[[23]][[j-13]]\n",
    "    }\n",
    "}"
   ]
  },
  {
   "cell_type": "markdown",
   "metadata": {},
   "source": [
    "It doesn't ..."
   ]
  },
  {
   "cell_type": "code",
   "execution_count": null,
   "metadata": {},
   "outputs": [],
   "source": [
    "print (i)\n",
    "print (j)\n",
    "print (tmpList[[j]])"
   ]
  },
  {
   "cell_type": "markdown",
   "metadata": {},
   "source": [
    "Let's try this again ..."
   ]
  },
  {
   "cell_type": "code",
   "execution_count": null,
   "metadata": {
    "collapsed": true
   },
   "outputs": [],
   "source": [
    "for (i in 1:stores_counts){\n",
    "    tmpList <- stores_json[['data']][[i]]\n",
    "    for (j in 9:22){\n",
    "        if (!is.null(tmpList[[j]])){\n",
    "            df_stores[i,j-8] <- tmpList[[j]]\n",
    "        }\n",
    "    }\n",
    "    for (j in 15:16){\n",
    "        if (!is.null(tmpList[[23]][[j-13]])){\n",
    "            df_stores[i,j] <- as.numeric(tmpList[[23]][[j-13]])\n",
    "        }\n",
    "    }\n",
    "    for (j in 17:18){\n",
    "        if (!is.null(tmpList[[23]][[j-13]])){\n",
    "            df_stores[i,j] <- tmpList[[23]][[j-13]]\n",
    "        }\n",
    "    }\n",
    "}"
   ]
  },
  {
   "cell_type": "markdown",
   "metadata": {},
   "source": [
    "Validate data (to some extent ...)"
   ]
  },
  {
   "cell_type": "code",
   "execution_count": null,
   "metadata": {},
   "outputs": [],
   "source": [
    "unique(df_stores$County)"
   ]
  },
  {
   "cell_type": "code",
   "execution_count": null,
   "metadata": {
    "scrolled": true
   },
   "outputs": [],
   "source": [
    "print(stores_json[['data']][10])\n",
    "print(df_stores[10,])"
   ]
  }
 ],
 "metadata": {
  "kernelspec": {
   "display_name": "R 3.3",
   "language": "R",
   "name": "r-3.3"
  },
  "language_info": {
   "codemirror_mode": "r",
   "file_extension": ".r",
   "mimetype": "text/x-r-source",
   "name": "R",
   "pygments_lexer": "r",
   "version": "3.3.1"
  }
 },
 "nbformat": 4,
 "nbformat_minor": 1
}
