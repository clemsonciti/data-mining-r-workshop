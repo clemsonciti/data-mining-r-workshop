{
 "cells": [
  {
   "cell_type": "markdown",
   "metadata": {},
   "source": [
    "## 1. Installing packages: `feedeR`, `rtweet`, `RCurl`, `xml2`, `RJSONIO`, `RSQLite`, `stringr`"
   ]
  },
  {
   "cell_type": "markdown",
   "metadata": {},
   "source": [
    "**1.1 Establish an SSH connection with X11 tunnel to `user.palmetto.clemson.edu`: **\n",
    "\n",
    "- For Linux machines, you can use the default command line terminal\n",
    "- For Mac machines, you need to make sure that XQuartz is installed before using the default command line terminal\n",
    "- For Windows machines, the recommended approach is to download and install [MobaXterm](http://mobaxterm.mobatek.net/), and use MobaXterm's terminal to connect. \n",
    "- The command to connect for all three cases is showned below, with *username* is your Clemson User ID:\n",
    "\n",
    "```\n",
    "ssh -X username@user.palmetto.clemson.edu\n",
    "```"
   ]
  },
  {
   "cell_type": "markdown",
   "metadata": {
    "collapsed": true
   },
   "source": [
    "<img src=\"./figures/palmetto_login.png\">"
   ]
  },
  {
   "cell_type": "markdown",
   "metadata": {},
   "source": [
    "**1.2. Request a temporary node with X11 tunnel for setting the required R packages **\n",
    "\n",
    "```\n",
    "clear\n",
    "qsub -I -X -l walltime=02:00:00\n",
    "```"
   ]
  },
  {
   "cell_type": "markdown",
   "metadata": {},
   "source": [
    "**1.3. Open the correct R distribution that is used for JupyterHub's R notebooks **\n",
    "\n",
    "```\n",
    "module load anaconda3/4.2.0\n",
    "source activate R\n",
    "R\n",
    "```"
   ]
  },
  {
   "cell_type": "markdown",
   "metadata": {},
   "source": [
    "**1.4. Install packages:**\n",
    "\n",
    "Inside the R prompt, run the following command\n",
    "\n",
    "```\n",
    "package_list <- c('feedeR','rtweet','RCurl','xml2','RJSONIO','RSQLite','stringr')\n",
    "install.packages(package_list,repos='http://cran.cnr.berkeley.edu/')\n",
    "```\n",
    "\n",
    "- If this is the first time that you run R from inside Palmetto, R will ask for a non-root installation directory for future packages. Accept the suggested path that looks similar to the following: ‘/home/YOUR_USER_NAME/R/x86_64-pc-linux-gnu-library/3.3’\n",
    "- If for some reasons the Berkely mirror URL does not work, you can also try using the folowing URLS for repos:\n",
    "  - http://cran.stat.ucla.edu/\n",
    "  - http://mirror.las.iastate.edu/CRAN/\n",
    "  - http://cran.mtu.edu/ \n",
    "- Other mirror URLs can be found at https://cran.r-project.org/mirrors.html\n",
    "- You can test that all packages are installed and usable by load them all and check session information to see the loaded packages under header *other attached packages*\n",
    "\n",
    "```\n",
    "library(feedeR)\n",
    "library(rtweet)\n",
    "library(RCurl)\n",
    "library(xml2)\n",
    "library(RJSONIO)\n",
    "library(RSQLite)\n",
    "library(stringr)\n",
    "sessionInfo()\n",
    "```"
   ]
  },
  {
   "cell_type": "markdown",
   "metadata": {},
   "source": [
    "<img src=\"./figures/r_jupyter.png\">"
   ]
  },
  {
   "cell_type": "markdown",
   "metadata": {},
   "source": [
    "## 2. Setup `rtweet` for streaming Twitter data\n",
    "\n",
    "- This section is based on instructions provided at https://mkearney.github.io/rtweet/articles/auth.html\n",
    "- The terminal connecting to Palmetto with X11 tunneling from step 1 should be kept open."
   ]
  },
  {
   "cell_type": "markdown",
   "metadata": {},
   "source": [
    "** 2.1. Creating Twitter account **\n",
    "\n",
    "- Sign up for a Twitter account at https://twitter.com\n",
    "- Make sure that your account has an associated phone number. This is required to make your Twitter account into a developer account (being able to create app)"
   ]
  },
  {
   "cell_type": "markdown",
   "metadata": {},
   "source": [
    "** 2.2. Creating Twitter app **\n",
    "\n",
    "- Go to https://apps.twitter.com and sign in with your Twitter account\n",
    "- Create an application:\n",
    "  - Application names are unique, you will need to pick a different name from R_Workshop_Clemson\n",
    "  - Some descriptions are required, it is just to describe what your application will do\n",
    "  - The website is required, but you do not have to provide a specific website. You only need to provide a place holder URL that is in the correct format. \n",
    "  - The Callback URL must be http://127.0.0.1:1410\n",
    "- Once the Twitter app is created, you will be able to click on the app's name on the front page of https://apps.twitter.com to go to the Application Management page. Select the **Keys and Access Tokens** tab to see your access tokens. You will need the **Consumer Key (API Key)** and **Consumer Secret (API Secret)** strings as shown in this tab for the next steps. "
   ]
  },
  {
   "cell_type": "markdown",
   "metadata": {},
   "source": [
    "<img src=\"./figures/twitter_app_creation.png\">"
   ]
  },
  {
   "cell_type": "markdown",
   "metadata": {},
   "source": [
    "** 2.3. Setting up Twitter security token for R's rtweet package: **\n",
    "\n",
    "- Continue in the same command line terminal from step 1, type in the following R codes\n",
    "\n",
    "```\n",
    "appname <- YOUR_APP_NAME\n",
    "key <- YOUR_CONSUMER_KEY\n",
    "secret <- YOUR_CONSUMER_SECRET\n",
    "twitter_token <- create_token(app = appname,consumer_key = key,consumer_secret = secret)\n",
    "```\n",
    "\n",
    "- After these R commands are executed, a Firefox browser will pop up asking you to sign in and authenticate the access token, and the R environment will print the following lines while waiting for the authentication:\n",
    "\n",
    "```\n",
    "Waiting for authentication in browser...\n",
    "Press Esc/Ctrl + C to abort\n",
    "```\n",
    "\n",
    "- Click on the blue **Authorize App** button to confirm the authorization. This will take you to a web page that has the lines *Authentication complete. Please close this page and return to R*. You can now close the Firefox browser. The R environment will print out the line *Authentication complete* and escape from waiting mode into the normal R prompt. "
   ]
  },
  {
   "cell_type": "markdown",
   "metadata": {},
   "source": [
    "<img src=\"./figures/twitter_app_authorization.png\">"
   ]
  },
  {
   "cell_type": "markdown",
   "metadata": {},
   "source": [
    "** 2.4. Saving Twitter security token for future usage: **\n",
    "\n",
    "The `twitter_token` variable should be saved to a file after step 2.3 is completed so that it can be reused later. The process is as follows:\n",
    "\n",
    "- Continuing in the same R command line terminal as step 2.3, execute the followings:\n",
    "\n",
    "```\n",
    "home_directory <- path.expand(\"~/\")\n",
    "file_name <- file.path(home_directory, \"twitter_token.rds\")\n",
    "saveRDS(twitter_token, file = file_name)\n",
    "cat(paste0(\"TWITTER_PAT=\", file_name),file = file.path(home_directory, \".Renviron\"),append = TRUE)\n",
    "```\n",
    "\n",
    "- The above codes will save the `twitter_toke` variable into the `twitter_token.rds` file stored inside your home directory. Next, it creates an environment variable called `TWITTER_PAT` that points to this file and store the environment variable in the default `.Renviron` file that will be loaded by R whenever R is started. \n",
    "- It is possible to customize the path to the token file (maybe save it to a specific directory) and `TWITTER_PAT`\n",
    "- When tne `rtweet` library is loaded, `TWITTER_PAT` will be read and all subsequent streaming calls to Twitter will be validated automatically. "
   ]
  }
 ],
 "metadata": {
  "kernelspec": {
   "display_name": "Python 3",
   "language": "python",
   "name": "python3"
  },
  "language_info": {
   "codemirror_mode": {
    "name": "ipython",
    "version": 3
   },
   "file_extension": ".py",
   "mimetype": "text/x-python",
   "name": "python",
   "nbconvert_exporter": "python",
   "pygments_lexer": "ipython3",
   "version": "3.5.2"
  }
 },
 "nbformat": 4,
 "nbformat_minor": 1
}
