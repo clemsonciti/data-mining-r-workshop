{
 "cells": [
  {
   "cell_type": "markdown",
   "metadata": {},
   "source": [
    "# Data Mining using R"
   ]
  },
  {
   "cell_type": "markdown",
   "metadata": {},
   "source": [
    "#### R in a nutshell\n",
    "\n",
    "- Statistical programming environments\n",
    "- Originally designed and implemented by statisticians\n",
    "- Widely popular due to its extensive collection of community-contributed packages\n",
    "- Quickly gaining market-share among traditional proprietary tools such as SAS and STATA for data analytics"
   ]
  },
  {
   "cell_type": "markdown",
   "metadata": {},
   "source": [
    "#### Learning Objectives\n",
    "\n",
    "- Understand data acquisition: downloading from static links, crawling through entire websites, and streaming data from real-time sources\n",
    "- Understand data curation: working with hierarchically structured data (XML/HTML and JSON)\n",
    "- Understand data management: organizing data directories, working with databases\n",
    "- Understand HPC concepts: automating data-mining process through the Palmetto and Cypress Supercomputers"
   ]
  },
  {
   "cell_type": "markdown",
   "metadata": {},
   "source": [
    "## Where am I?"
   ]
  },
  {
   "cell_type": "code",
   "execution_count": null,
   "metadata": {
    "collapsed": false
   },
   "outputs": [],
   "source": [
    "getwd()"
   ]
  },
  {
   "cell_type": "code",
   "execution_count": null,
   "metadata": {
    "collapsed": false
   },
   "outputs": [],
   "source": [
    "setwd(\"/home/lngo/data-mining-r/\")"
   ]
  },
  {
   "cell_type": "code",
   "execution_count": null,
   "metadata": {
    "collapsed": false
   },
   "outputs": [],
   "source": [
    "getwd()"
   ]
  },
  {
   "cell_type": "markdown",
   "metadata": {},
   "source": [
    "## Data Management using SQLite\n",
    "\n",
    "### also\n",
    "\n",
    "## Data Curation for HTML"
   ]
  },
  {
   "cell_type": "markdown",
   "metadata": {},
   "source": [
    "### 3. [SQLite](http://sqlite.org/)\n",
    "\n",
    "- \"Self-contained, high-reliability, embedded, full-featured, public-domain, SQL database engine\"\n",
    "- \"The most-used database engine in the world\""
   ]
  },
  {
   "cell_type": "markdown",
   "metadata": {},
   "source": [
    "Package `XML` reads xml data into a tree structure that can be interpreted by external XML processing functions. "
   ]
  },
  {
   "cell_type": "code",
   "execution_count": null,
   "metadata": {
    "collapsed": true
   },
   "outputs": [],
   "source": [
    "http://stackoverflow.com/questions/33446888/r-convert-xml-data-to-data-frame\n",
    "http://rpubs.com/jsmanij/131030"
   ]
  },
  {
   "cell_type": "code",
   "execution_count": null,
   "metadata": {
    "collapsed": false
   },
   "outputs": [],
   "source": [
    "library(DBI)\n",
    "library(RSQLite)"
   ]
  },
  {
   "cell_type": "code",
   "execution_count": null,
   "metadata": {
    "collapsed": true
   },
   "outputs": [],
   "source": [
    "db_name <- file.path('data','yelp.sqlite')"
   ]
  },
  {
   "cell_type": "code",
   "execution_count": null,
   "metadata": {
    "collapsed": false
   },
   "outputs": [],
   "source": [
    "conn <- dbConnect(SQLite(), db_name)"
   ]
  },
  {
   "cell_type": "code",
   "execution_count": null,
   "metadata": {
    "collapsed": false
   },
   "outputs": [],
   "source": [
    "dbDisconnect(conn)"
   ]
  },
  {
   "cell_type": "markdown",
   "metadata": {},
   "source": [
    "With a back-end database, now we can turn back to mining online data. We will be using Yelp in this example. \n",
    "\n",
    "Recaling Yelp's URL patterns from notebook 1:\n",
    "- https://www.yelp.com/biz/emerils-new-orleans-new-orleans\n",
    "- https://www.yelp.com/biz/emerils-new-orleans-new-orleans?start=20\n",
    "- https://www.yelp.com/biz/emerils-new-orleans-new-orleans?start=40\n",
    "- https://www.yelp.com/biz/emerils-new-orleans-new-orleans?start=60\n",
    "- ...\n",
    "\n",
    "**Important:** We do not know when the additional pages will stop. We could go to the last page, but that only works for sometimes, as there will be more reviews in the future. "
   ]
  },
  {
   "cell_type": "markdown",
   "metadata": {},
   "source": [
    "We need to wrap the data mining process in a loop whose stopping condition is Yelp running out of further review pages. First step is to analyze a single review page.\n",
    "\n",
    "**What we want:**\n",
    "- Information associated with individual reviews (user name, rating, review's text, date ...)\n",
    "- Information about link to the next review page. "
   ]
  },
  {
   "cell_type": "code",
   "execution_count": null,
   "metadata": {
    "collapsed": true
   },
   "outputs": [],
   "source": [
    "library(xml2)"
   ]
  },
  {
   "cell_type": "code",
   "execution_count": null,
   "metadata": {
    "collapsed": false,
    "scrolled": true
   },
   "outputs": [],
   "source": [
    "url_prefix <- 'https://www.yelp.com/biz/emerils-new-orleans-new-orleans'\n",
    "\n",
    "current_review <- read_html(url_prefix)\n",
    "print (current_review)"
   ]
  },
  {
   "cell_type": "code",
   "execution_count": null,
   "metadata": {
    "collapsed": false
   },
   "outputs": [],
   "source": [
    "xml_structure(current_review)"
   ]
  },
  {
   "cell_type": "markdown",
   "metadata": {},
   "source": [
    "In many cases, looking at just the structure of an HTML page does not help, because you cannot associate the structure's names with the actual relevant contents. Looking at the source of the page can yield better results"
   ]
  },
  {
   "cell_type": "markdown",
   "metadata": {},
   "source": [
    "We will need to use [XPath Query Language](https://en.wikipedia.org/wiki/XPath):\n",
    "- /node = top-level node\n",
    "- //node = node at any level\n",
    "- node[@attr] = node that has an attribute named \"attr\"\n",
    "- node[@attr='something'] = node that has an attribute named \"attr\" with value 'something'\n",
    "- node/@attr = value of attribute `attr` in node that has such attributes. \n",
    "\n",
    "XPAth queries can be used with package XML's functions to describe operations on invidual XML data elements:"
   ]
  },
  {
   "cell_type": "code",
   "execution_count": null,
   "metadata": {
    "collapsed": false,
    "scrolled": true
   },
   "outputs": [],
   "source": [
    "single_rev <- xml_find_first(current_review, \"//div[@itemprop='review']\")"
   ]
  },
  {
   "cell_type": "code",
   "execution_count": null,
   "metadata": {
    "collapsed": false
   },
   "outputs": [],
   "source": [
    "single_rev"
   ]
  },
  {
   "cell_type": "code",
   "execution_count": null,
   "metadata": {
    "collapsed": false
   },
   "outputs": [],
   "source": [
    "current_revs <- xml_find_all(current_review, \"//div[@itemprop='review']\")"
   ]
  },
  {
   "cell_type": "code",
   "execution_count": null,
   "metadata": {
    "collapsed": false
   },
   "outputs": [],
   "source": [
    "print (length(current_revs))"
   ]
  },
  {
   "cell_type": "markdown",
   "metadata": {},
   "source": [
    "This sounds about right. Now we can examine the internal structure of a single review data element"
   ]
  },
  {
   "cell_type": "code",
   "execution_count": null,
   "metadata": {
    "collapsed": false
   },
   "outputs": [],
   "source": [
    "xml_structure(single_rev)"
   ]
  },
  {
   "cell_type": "markdown",
   "metadata": {},
   "source": [
    "List might be a better choice ..."
   ]
  },
  {
   "cell_type": "code",
   "execution_count": null,
   "metadata": {
    "collapsed": true
   },
   "outputs": [],
   "source": [
    "list_rev <- as_list(single_rev)"
   ]
  },
  {
   "cell_type": "code",
   "execution_count": null,
   "metadata": {
    "collapsed": false
   },
   "outputs": [],
   "source": [
    "str(list_rev)"
   ]
  },
  {
   "cell_type": "markdown",
   "metadata": {},
   "source": [
    "How do we get what we need?"
   ]
  },
  {
   "cell_type": "code",
   "execution_count": null,
   "metadata": {
    "collapsed": false
   },
   "outputs": [],
   "source": [
    "attr(list_rev[[2]],'content') # Author"
   ]
  },
  {
   "cell_type": "code",
   "execution_count": null,
   "metadata": {
    "collapsed": false
   },
   "outputs": [],
   "source": [
    "attr(list_rev[[5]],'content') # Review Date"
   ]
  },
  {
   "cell_type": "code",
   "execution_count": null,
   "metadata": {
    "collapsed": false
   },
   "outputs": [],
   "source": [
    "attr(list_rev[[3]][[2]],'content') # Review Rating"
   ]
  },
  {
   "cell_type": "code",
   "execution_count": null,
   "metadata": {
    "collapsed": false
   },
   "outputs": [],
   "source": [
    "list_rev[[6]][[1]]"
   ]
  },
  {
   "cell_type": "code",
   "execution_count": null,
   "metadata": {
    "collapsed": false
   },
   "outputs": [],
   "source": [
    "str(as_list(current_revs))"
   ]
  },
  {
   "cell_type": "markdown",
   "metadata": {
    "collapsed": false
   },
   "source": [
    "The above shows us the potential structure for a data frame's headers, and for an SQL table's column information. \n",
    "\n",
    "Next, we will need to look at stopping conditions when crawling through all the remaining review pages"
   ]
  },
  {
   "cell_type": "code",
   "execution_count": null,
   "metadata": {
    "collapsed": true
   },
   "outputs": [],
   "source": [
    "page_info <- xml_find_first(current_review, \"//div[@class='page-of-pages arrange_unit arrange_unit--fill']\")"
   ]
  },
  {
   "cell_type": "code",
   "execution_count": null,
   "metadata": {
    "collapsed": false
   },
   "outputs": [],
   "source": [
    "str(as_list(page_info))"
   ]
  },
  {
   "cell_type": "markdown",
   "metadata": {},
   "source": [
    "How to extract information:\n",
    "- Drop new-line character\n",
    "- Remove leading and trailing white spaces\n",
    "- Extract the final number"
   ]
  },
  {
   "cell_type": "code",
   "execution_count": null,
   "metadata": {
    "collapsed": false
   },
   "outputs": [],
   "source": [
    "text_page_count <- xml_text(page_info, trim=TRUE)\n",
    "print (text_page_count)"
   ]
  },
  {
   "cell_type": "code",
   "execution_count": null,
   "metadata": {
    "collapsed": false
   },
   "outputs": [],
   "source": [
    "page_count <- as.numeric(strsplit(text_page_count,\" \")[[1]][4])\n",
    "print (page_count)"
   ]
  },
  {
   "cell_type": "markdown",
   "metadata": {},
   "source": [
    "Let's start the crawling process:\n",
    "- To test the crawling process, we first try this out by mining the list of reviewers' names"
   ]
  },
  {
   "cell_type": "code",
   "execution_count": null,
   "metadata": {
    "collapsed": false
   },
   "outputs": [],
   "source": [
    "url_prefix <- 'https://www.yelp.com/biz/emerils-new-orleans-new-orleans'\n",
    "url_suffix <- ''\n",
    "start_index <- 0\n",
    "list_authors <- c()\n",
    "\n",
    "for (i in 1:page_count){\n",
    "    url_current <- paste(url_prefix, url_suffix, sep='')\n",
    "    current_page <- read_html(url_current)\n",
    "    current_revs <- xml_find_all(current_page, \"//div[@itemprop='review']\")\n",
    "    list_revs <- as_list(current_revs)\n",
    "    count_revs <- length(list_revs)\n",
    "    print (url_current)\n",
    "    print (paste0('Page ', i, ' has ', count_revs, ' reviews.'))\n",
    "    for (j in 1:count_revs){\n",
    "        author_name <- attr(list_revs[[j]][[2]],'content')\n",
    "        list_authors <- c(list_authors, author_name)\n",
    "    }\n",
    "    start_index <- start_index + 20\n",
    "    url_suffix <- paste0('?start=',start_index)\n",
    "}\n",
    "print (unique(list_authors))"
   ]
  },
  {
   "cell_type": "markdown",
   "metadata": {},
   "source": [
    "The crawling process seems to work properly. Now we can start looking at how acquired data can be inserted into the SQLite database."
   ]
  },
  {
   "cell_type": "markdown",
   "metadata": {},
   "source": [
    "**Step 1: Establish connection to backend SQLite database**"
   ]
  },
  {
   "cell_type": "code",
   "execution_count": null,
   "metadata": {
    "collapsed": true
   },
   "outputs": [],
   "source": [
    "db_name <- file.path('data','yelp.sqlite')\n",
    "db_conn <- dbConnect(SQLite(), db_name)"
   ]
  },
  {
   "cell_type": "markdown",
   "metadata": {},
   "source": [
    "**Step 2: Create new table in database **"
   ]
  },
  {
   "cell_type": "code",
   "execution_count": null,
   "metadata": {
    "collapsed": false
   },
   "outputs": [],
   "source": [
    "if (!dbExistsTable(db_conn, 'Emerils')){\n",
    "    dbSendQuery(conn = db_conn,\n",
    "                'CREATE TABLE Emerils (Author TEXT, ReviewDate TEXT, ReviewRating INTEGER, ReviewText TEXT)')\n",
    "}"
   ]
  },
  {
   "cell_type": "markdown",
   "metadata": {},
   "source": [
    "**Step 3: Check that table is created properly**"
   ]
  },
  {
   "cell_type": "code",
   "execution_count": null,
   "metadata": {
    "collapsed": false
   },
   "outputs": [],
   "source": [
    "dbListTables(db_conn)              # The tables in the database"
   ]
  },
  {
   "cell_type": "code",
   "execution_count": null,
   "metadata": {
    "collapsed": false
   },
   "outputs": [],
   "source": [
    " dbListFields(db_conn, 'Emerils')    # The columns in a table"
   ]
  },
  {
   "cell_type": "code",
   "execution_count": null,
   "metadata": {
    "collapsed": false
   },
   "outputs": [],
   "source": [
    " dbReadTable(db_conn, 'Emerils')     # The data in a table"
   ]
  },
  {
   "cell_type": "markdown",
   "metadata": {},
   "source": [
    "**Step 4: Test data insertion for a single page**"
   ]
  },
  {
   "cell_type": "markdown",
   "metadata": {},
   "source": [
    "- Test data frame to be inserted"
   ]
  },
  {
   "cell_type": "code",
   "execution_count": null,
   "metadata": {
    "collapsed": false
   },
   "outputs": [],
   "source": [
    "url_prefix <- 'https://www.yelp.com/biz/emerils-new-orleans-new-orleans'\n",
    "url_suffix <- ''\n",
    "start_index <- 0\n",
    "\n",
    "for (i in 1:2){\n",
    "    url_current <- paste(url_prefix, url_suffix, sep='')\n",
    "    current_page <- read_html(url_current)\n",
    "    current_revs <- xml_find_all(current_page, \"//div[@itemprop='review']\")\n",
    "    list_revs <- as_list(current_revs)\n",
    "    count_revs <- length(list_revs)\n",
    "    print (url_current)\n",
    "    print (paste0('Page ', i, ' has ', count_revs, ' reviews.'))\n",
    "    df_current_page <- data.frame(Author=character(count_revs),\n",
    "                                  ReviewDate=character(count_revs),\n",
    "                                  ReviewRating=numeric(count_revs),\n",
    "                                  ReviewText=character(count_revs), stringsAsFactors=FALSE)\n",
    "    for (j in 1:count_revs){\n",
    "        author_name <- attr(list_revs[[j]][[2]],'content')\n",
    "        df_current_page[j, 1] <- attr(list_revs[[j]][[2]],'content')\n",
    "        df_current_page[j, 2] <- attr(list_revs[[j]][[5]],'content')\n",
    "        df_current_page[j, 3] <- as.numeric(attr(list_revs[[j]][[3]][[2]],'content'))\n",
    "        review_text <- list_revs[[j]][[6]][[1]]\n",
    "        df_current_page[j, 4] <- trimws(gsub('\\r\\n','',review_text))\n",
    "    }\n",
    "    start_index <- start_index + 20\n",
    "    url_suffix <- paste0('?start=',start_index)\n",
    "}\n",
    "print (df_current_page)"
   ]
  },
  {
   "cell_type": "markdown",
   "metadata": {},
   "source": [
    "- Test insertion process"
   ]
  },
  {
   "cell_type": "code",
   "execution_count": null,
   "metadata": {
    "collapsed": false
   },
   "outputs": [],
   "source": [
    "url_prefix <- 'https://www.yelp.com/biz/emerils-new-orleans-new-orleans'\n",
    "url_suffix <- ''\n",
    "start_index <- 0\n",
    "\n",
    "for (i in 1:2){\n",
    "    url_current <- paste(url_prefix, url_suffix, sep='')\n",
    "    current_page <- read_html(url_current)\n",
    "    current_revs <- xml_find_all(current_page, \"//div[@itemprop='review']\")\n",
    "    list_revs <- as_list(current_revs)\n",
    "    count_revs <- length(list_revs)\n",
    "    print (url_current)\n",
    "    print (paste0('Page ', i, ' has ', count_revs, ' reviews.'))\n",
    "    df_current_page <- data.frame(Author=character(count_revs),\n",
    "                                  ReviewDate=character(count_revs),\n",
    "                                  ReviewRating=numeric(count_revs),\n",
    "                                  ReviewText=character(count_revs), stringsAsFactors=FALSE)\n",
    "    for (j in 1:count_revs){\n",
    "        author_name <- attr(list_revs[[j]][[2]],'content')\n",
    "        df_current_page[j, 1] <- attr(list_revs[[j]][[2]],'content')\n",
    "        df_current_page[j, 2] <- attr(list_revs[[j]][[5]],'content')\n",
    "        df_current_page[j, 3] <- as.numeric(attr(list_revs[[j]][[3]][[2]],'content'))\n",
    "        review_text <- list_revs[[j]][[6]][[1]]\n",
    "        df_current_page[j, 4] <- trimws(gsub('\\r\\n','',review_text))\n",
    "    }\n",
    "    \n",
    "    dbWriteTable(db_conn, 'tmp_reviews', df_current_page)\n",
    "    dbReadTable(db_conn, 'tmp_reviews')\n",
    "    rs <- dbSendStatement(db_conn,\n",
    "                          \"INSERT INTO Emerils SELECT * FROM tmp_reviews;\")\n",
    "    if (dbHasCompleted(rs)){\n",
    "        print ('Statement is completed')\n",
    "    }\n",
    "    \n",
    "    dbRemoveTable(db_conn, 'tmp_reviews')\n",
    "    start_index <- start_index + 20\n",
    "    url_suffix <- paste0('?start=',start_index)\n",
    "}\n",
    "dbReadTable(db_conn, 'Emerils')"
   ]
  },
  {
   "cell_type": "markdown",
   "metadata": {},
   "source": [
    "**Step 5: Complete data mining process**"
   ]
  },
  {
   "cell_type": "code",
   "execution_count": null,
   "metadata": {
    "collapsed": false
   },
   "outputs": [],
   "source": [
    "url_prefix <- 'https://www.yelp.com/biz/emerils-new-orleans-new-orleans'\n",
    "url_suffix <- ''\n",
    "start_index <- 0\n",
    "\n",
    "for (i in 3:page_count){\n",
    "    url_current <- paste(url_prefix, url_suffix, sep='')\n",
    "    current_page <- read_html(url_current)\n",
    "    current_revs <- xml_find_all(current_page, \"//div[@itemprop='review']\")\n",
    "    list_revs <- as_list(current_revs)\n",
    "    count_revs <- length(list_revs)\n",
    "    print (url_current)\n",
    "    print (paste0('Page ', i, ' has ', count_revs, ' reviews.'))\n",
    "    df_current_page <- data.frame(Author=character(count_revs),\n",
    "                                  ReviewDate=character(count_revs),\n",
    "                                  ReviewRating=numeric(count_revs),\n",
    "                                  ReviewText=character(count_revs), stringsAsFactors=FALSE)\n",
    "    for (j in 1:count_revs){\n",
    "        author_name <- attr(list_revs[[j]][[2]],'content')\n",
    "        df_current_page[j, 1] <- attr(list_revs[[j]][[2]],'content')\n",
    "        df_current_page[j, 2] <- attr(list_revs[[j]][[5]],'content')\n",
    "        df_current_page[j, 3] <- as.numeric(attr(list_revs[[j]][[3]][[2]],'content'))\n",
    "        review_text <- list_revs[[j]][[6]][[1]]\n",
    "        df_current_page[j, 4] <- trimws(gsub('\\r\\n','',review_text))\n",
    "    }\n",
    "    \n",
    "    dbWriteTable(db_conn, 'tmp_reviews', df_current_page)\n",
    "    dbReadTable(db_conn, 'tmp_reviews')\n",
    "    rs <- dbSendStatement(db_conn,\n",
    "                          \"INSERT INTO Emerils SELECT * FROM tmp_reviews;\")\n",
    "    if (dbHasCompleted(rs)){\n",
    "        print ('Statement is completed')\n",
    "    }\n",
    "    \n",
    "    dbRemoveTable(db_conn, 'tmp_reviews')\n",
    "    start_index <- start_index + 20\n",
    "    url_suffix <- paste0('?start=',start_index)\n",
    "}"
   ]
  },
  {
   "cell_type": "markdown",
   "metadata": {},
   "source": [
    "**Step 6: Validation**"
   ]
  },
  {
   "cell_type": "code",
   "execution_count": null,
   "metadata": {
    "collapsed": false
   },
   "outputs": [],
   "source": [
    "rs_1 <- dbSendQuery(db_conn, 'SELECT Count(*) FROM Emerils')\n",
    "print (dbFetch(rs_1))\n",
    "dbClearResult(rs_1)\n",
    "\n",
    "\n",
    "rs_2 <- dbSendQuery(db_conn, \"SELECT * FROM Emerils\")\n",
    "df_test <- dbFetch(rs_2, 10)\n",
    "print (df_test)\n",
    "dbClearResult(rs_2)"
   ]
  },
  {
   "cell_type": "markdown",
   "metadata": {},
   "source": [
    "**Step 7: Cleanup**\n",
    "Remember to properly close the connection to your SQLite database (to close the file)"
   ]
  },
  {
   "cell_type": "code",
   "execution_count": null,
   "metadata": {
    "collapsed": false
   },
   "outputs": [],
   "source": [
    "dbDisconnect(db_conn)"
   ]
  }
 ],
 "metadata": {
  "kernelspec": {
   "display_name": "R 3.3",
   "language": "R",
   "name": "r-3.3"
  },
  "language_info": {
   "codemirror_mode": "r",
   "file_extension": ".r",
   "mimetype": "text/x-r-source",
   "name": "R",
   "pygments_lexer": "r",
   "version": "3.3.1"
  }
 },
 "nbformat": 4,
 "nbformat_minor": 1
}
